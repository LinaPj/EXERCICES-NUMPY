{
 "cells": [
  {
   "cell_type": "markdown",
   "id": "94bf66bd",
   "metadata": {},
   "source": [
    "# Question 1\n",
    "\n",
    "#Write a Python program to convert an array to an ordinary list with the same items."
   ]
  },
  {
   "cell_type": "code",
   "execution_count": 7,
   "id": "7cb88dcd",
   "metadata": {},
   "outputs": [
    {
     "data": {
      "text/plain": [
       "[1, 2, 3]"
      ]
     },
     "execution_count": 7,
     "metadata": {},
     "output_type": "execute_result"
    }
   ],
   "source": [
    "import numpy as np\n",
    "\n",
    "my_array=np.array([1,2,3])\n",
    "liste=my_array.tolist()\n",
    "liste\n"
   ]
  },
  {
   "cell_type": "markdown",
   "id": "b164954a",
   "metadata": {},
   "source": [
    "# Question 2 \n",
    "\n",
    "#Write a NumPy program to compute the sum of the diagonal elements of a given array.\n",
    "\n",
    "#Hint: Two methods to solve this problem: 1. manually(without direct function). 2. using the trace function"
   ]
  },
  {
   "cell_type": "code",
   "execution_count": 36,
   "id": "5c03b27b",
   "metadata": {},
   "outputs": [
    {
     "data": {
      "text/plain": [
       "array([1, 3, 3])"
      ]
     },
     "execution_count": 36,
     "metadata": {},
     "output_type": "execute_result"
    }
   ],
   "source": [
    "jm=np.array([[1,2,3,4],[2,3,4,5],[1,2,3,4]])\n",
    "s=np.trace(jm) #la fonction trace fait l'addition de la diagonale\n",
    "s\n",
    "\n",
    "\n",
    "\n",
    "#methode manuel \n",
    "jm=np.array([[1,2,3,4],[2,3,4,5],[1,2,3,4]])\n",
    "t=jm.diagonal()\n",
    "s=0\n",
    "for i in range(len(t)):\n",
    "    s=s+t[i]\n",
    "\n",
    "s\n"
   ]
  },
  {
   "cell_type": "markdown",
   "id": "89bb4b61",
   "metadata": {},
   "source": [
    "# Question 3\n",
    "\n",
    "#Given an array of your choice, get all the values higher than X :\n",
    "\n",
    "#if a = [[1,2],[3,5]] and x = 2 :  then 3 and 5 are higher than 2."
   ]
  },
  {
   "cell_type": "code",
   "execution_count": 42,
   "id": "9246c17c",
   "metadata": {},
   "outputs": [
    {
     "name": "stdout",
     "output_type": "stream",
     "text": [
      "6 is higher than 2\n",
      "3 is higher than 2\n",
      "5 is higher than 2\n",
      "7 is higher than 2\n"
     ]
    }
   ],
   "source": [
    "a= np.array([[1,2,6],[3,5,7]])\n",
    "x=2\n",
    "for i in range(a.shape[0]):#boucle sur le nombre de lignes\n",
    "    for j in range(a.shape[1]):#= boucle 2 = boucle imbriquee\n",
    "        if a[i][j] > x:\n",
    "            print(a[i][j] ,\"is higher than\", x)\n",
    "    \n",
    "    \n",
    "    \n",
    "\n"
   ]
  },
  {
   "cell_type": "markdown",
   "id": "af07d3fa",
   "metadata": {},
   "source": [
    "# Question 4\n",
    "\n",
    "#Given two arrays, A & B have the same shape. \n",
    "\n",
    "#The task is to apply addition by hand: C is the new array. "
   ]
  },
  {
   "cell_type": "code",
   "execution_count": 43,
   "id": "bf182f8e",
   "metadata": {},
   "outputs": [
    {
     "data": {
      "text/plain": [
       "array([[ 2,  4,  6,  8],\n",
       "       [11, 13, 15, 17]])"
      ]
     },
     "execution_count": 43,
     "metadata": {},
     "output_type": "execute_result"
    }
   ],
   "source": [
    "tm=np.array([[1,2,3,4],[6,7,8,9]])\n",
    "s=np.array([[1,2,3,4],[5,6,7,8]])\n",
    "\n",
    "r=tm+s #by hand \n",
    "\n",
    "r"
   ]
  },
  {
   "cell_type": "markdown",
   "id": "5816236c",
   "metadata": {},
   "source": [
    "# Question 5\n",
    "\n",
    "#Write a NumPy program to subtract the mean of each row of a given matrix.\n",
    "\n",
    "#Hint: use the mean function"
   ]
  },
  {
   "cell_type": "code",
   "execution_count": null,
   "id": "54fc749e",
   "metadata": {},
   "outputs": [],
   "source": [
    "tm=np.array([[1,2,3,4],[6,7,8,9]])\n",
    "s=np.mean(tab,axis=)\n",
    "\n"
   ]
  }
 ],
 "metadata": {
  "kernelspec": {
   "display_name": "Python 3 (ipykernel)",
   "language": "python",
   "name": "python3"
  },
  "language_info": {
   "codemirror_mode": {
    "name": "ipython",
    "version": 3
   },
   "file_extension": ".py",
   "mimetype": "text/x-python",
   "name": "python",
   "nbconvert_exporter": "python",
   "pygments_lexer": "ipython3",
   "version": "3.9.7"
  }
 },
 "nbformat": 4,
 "nbformat_minor": 5
}
